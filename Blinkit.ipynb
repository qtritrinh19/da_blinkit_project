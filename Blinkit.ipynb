{
 "cells": [
  {
   "cell_type": "code",
   "execution_count": 1,
   "id": "e4682671",
   "metadata": {},
   "outputs": [],
   "source": [
    "from sqlalchemy import create_engine\n",
    "import zipfile\n",
    "import os\n",
    "import pandas as pd"
   ]
  },
  {
   "cell_type": "markdown",
   "id": "478a5437",
   "metadata": {},
   "source": [
    "# 1. Read the data"
   ]
  },
  {
   "cell_type": "code",
   "execution_count": 2,
   "id": "8daaa498",
   "metadata": {},
   "outputs": [
    {
     "data": {
      "text/plain": [
       "['blinkit_customers.csv',\n",
       " 'blinkit_customer_feedback.csv',\n",
       " 'blinkit_db.zip',\n",
       " 'blinkit_delivery_performance.csv',\n",
       " 'blinkit_inventory.csv',\n",
       " 'blinkit_inventoryNew.csv',\n",
       " 'blinkit_marketing_performance.csv',\n",
       " 'blinkit_orders.csv',\n",
       " 'blinkit_order_items.csv',\n",
       " 'blinkit_products.csv',\n",
       " 'Category_Icons.xlsx',\n",
       " 'Rating_Icon.xlsx']"
      ]
     },
     "execution_count": 2,
     "metadata": {},
     "output_type": "execute_result"
    }
   ],
   "source": [
    "# Path to the zip file\n",
    "zip_path = \"D:/DA_Project/Data/Blinkit/blinkit_db.zip\"\n",
    "extract_path = \"D:/DA_Project/Data/Blinkit\"\n",
    "\n",
    "# Extract the file\n",
    "with zipfile.ZipFile(zip_path, 'r') as zip_ref:\n",
    "    zip_ref.extractall(extract_path)\n",
    "\n",
    "# List the files after extraction\n",
    "os.listdir(extract_path)\n"
   ]
  },
  {
   "cell_type": "code",
   "execution_count": null,
   "id": "0058a32d",
   "metadata": {},
   "outputs": [],
   "source": [
    "# Path to the inventory file\n",
    "orders_path = os.path.join(extract_path, \"blinkit_orders.csv\")\n",
    "order_items_path = os.path.join(extract_path, \"blinkit_order_items.csv\")\n",
    "product_path = os.path.join(extract_path, \"blinkit_products.csv\")\n",
    "inventory_path = os.path.join(extract_path, \"blinkit_inventory.csv\")\n",
    "\n",
    "# Read the data\n",
    "orders_df = pd.read_csv(orders_path)\n",
    "order_items_df = pd.read_csv(order_items_path)\n",
    "product_df = pd.read_csv(product_path)"
   ]
  },
  {
   "cell_type": "markdown",
   "id": "e1efc557",
   "metadata": {},
   "source": [
    "# 2. Data preprocessing"
   ]
  },
  {
   "cell_type": "code",
   "execution_count": 4,
   "id": "4bca0c38",
   "metadata": {},
   "outputs": [],
   "source": [
    "# Copy the original table\n",
    "orders_df_clean = orders_df.copy()\n",
    "\n",
    "# Check for duplicate data\n",
    "orders_df_clean[orders_df_clean.duplicated(subset=[\"order_id\"], keep=False)]\n",
    "\n",
    "\n",
    "# Convert order_date to datetime\n",
    "orders_df_clean[\"order_date\"] = pd.to_datetime(orders_df_clean[\"order_date\"])\n",
    "\n",
    "# Add a time analysis column\n",
    "orders_df_clean[\"order_day\"] = orders_df_clean[\"order_date\"].dt.date\n",
    "orders_df_clean[\"order_month\"] = orders_df_clean[\"order_date\"].dt.month\n",
    "orders_df_clean[\"order_year\"] = orders_df_clean[\"order_date\"].dt.year\n",
    "orders_df_clean[\"order_hour\"] = orders_df_clean[\"order_date\"].dt.hour\n"
   ]
  },
  {
   "cell_type": "code",
   "execution_count": 5,
   "id": "f6d62812",
   "metadata": {},
   "outputs": [],
   "source": [
    "# Copy the original table\n",
    "order_items_df_clean = order_items_df.copy()\n",
    "\n",
    "# Check for duplicate data\n",
    "order_items_df_clean[order_items_df_clean.duplicated(subset=[\"order_id\", \"product_id\"], keep=False)]\n",
    "\n",
    "# Calculate the total value of each row\n",
    "order_items_df_clean[\"item_total\"] = order_items_df_clean[\"quantity\"] * order_items_df_clean[\"unit_price\"]\n",
    "\n",
    "# Rename columns\n",
    "order_items_df_clean.columns = [\n",
    "    \"order_id\", \"product_id\", \"quantity\", \"unit_price\", \"item_total\"\n",
    "]"
   ]
  },
  {
   "cell_type": "markdown",
   "id": "441bc069",
   "metadata": {},
   "source": [
    "# 3. Upload data to the database"
   ]
  },
  {
   "cell_type": "code",
   "execution_count": 7,
   "id": "38a8e0a0",
   "metadata": {},
   "outputs": [
    {
     "data": {
      "text/plain": [
       "59"
      ]
     },
     "execution_count": 7,
     "metadata": {},
     "output_type": "execute_result"
    }
   ],
   "source": [
    "\n",
    "# Connection information\n",
    "server = \"COMPUTER\"\n",
    "database = \"BlinkitDB\"\n",
    "\n",
    "# Connect to SQL Server using the pymssql driver\n",
    "conn_str = (\n",
    "    f\"mssql+pyodbc://@{server}/{database}\"\n",
    "    \"?driver=ODBC+Driver+17+for+SQL+Server\"\n",
    "    \"&trusted_connection=yes\"\n",
    ")\n",
    "engine = create_engine(conn_str)\n",
    "\n",
    "# Push each table's data into SQL Server\n",
    "orders_df_clean.to_sql(\"orders\", con=engine, index=False, if_exists=\"replace\")\n",
    "order_items_df_clean.to_sql(\"order_items\", con=engine, index=False, if_exists=\"replace\")\n",
    "product_df.to_sql(\"products\", con=engine, index=False, if_exists=\"replace\")\n"
   ]
  }
 ],
 "metadata": {
  "kernelspec": {
   "display_name": "Python 3",
   "language": "python",
   "name": "python3"
  },
  "language_info": {
   "codemirror_mode": {
    "name": "ipython",
    "version": 3
   },
   "file_extension": ".py",
   "mimetype": "text/x-python",
   "name": "python",
   "nbconvert_exporter": "python",
   "pygments_lexer": "ipython3",
   "version": "3.13.5"
  }
 },
 "nbformat": 4,
 "nbformat_minor": 5
}
